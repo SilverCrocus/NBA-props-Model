{
 "cells": [
  {
   "cell_type": "markdown",
   "metadata": {},
   "source": [
    "# 🔧 Run Feature Engineering Pipeline\n",
    "\n",
    "This notebook executes the complete feature engineering pipeline to generate the processed features needed for analysis.\n",
    "\n",
    "## What it does:\n",
    "1. Loads raw CTG data\n",
    "2. Creates three-tier feature architecture\n",
    "3. Saves processed features for other notebooks\n"
   ]
  },
  {
   "cell_type": "code",
   "execution_count": 4,
   "metadata": {},
   "outputs": [
    {
     "name": "stdout",
     "output_type": "stream",
     "text": [
      "Starting Feature Engineering Pipeline...\n",
      "==================================================\n"
     ]
    }
   ],
   "source": [
    "# Import required libraries\n",
    "import pandas as pd\n",
    "import numpy as np\n",
    "from pathlib import Path\n",
    "import warnings\n",
    "warnings.filterwarnings('ignore')\n",
    "\n",
    "print(\"Starting Feature Engineering Pipeline...\")\n",
    "print(\"=\"*50)"
   ]
  },
  {
   "cell_type": "code",
   "execution_count": 5,
   "metadata": {},
   "outputs": [
    {
     "name": "stdout",
     "output_type": "stream",
     "text": [
      "✓ Loaded offensive data: 503 players\n",
      "✓ Loaded defense data: 503 players\n",
      "✓ Loaded shooting data: 503 players\n"
     ]
    }
   ],
   "source": [
    "# Load CTG data\n",
    "base_path = Path('/Users/diyagamah/Documents/nba_props_model/data')\n",
    "season_path = base_path / 'ctg_data_organized' / 'players' / '2023-24' / 'regular_season'\n",
    "\n",
    "# Load offensive data\n",
    "offensive_path = season_path / 'offensive_overview' / 'offensive_overview.csv'\n",
    "offensive_df = pd.read_csv(offensive_path)\n",
    "\n",
    "# Clean percentage columns\n",
    "for col in ['Usage', 'AST%', 'TOV%']:\n",
    "    if col in offensive_df.columns and offensive_df[col].dtype == 'object':\n",
    "        offensive_df[col] = offensive_df[col].str.replace('%', '').astype(float)\n",
    "\n",
    "print(f\"✓ Loaded offensive data: {len(offensive_df)} players\")\n",
    "\n",
    "# Load defense data\n",
    "defense_path = season_path / 'defense_rebounding' / 'defense_rebounding.csv'\n",
    "defense_df = pd.read_csv(defense_path)\n",
    "\n",
    "# Clean defense percentage columns\n",
    "for col in ['fgOR%', 'fgDR%', 'ftOR%', 'ftDR%', 'BLK%', 'STL%', 'FOUL%']:\n",
    "    if col in defense_df.columns and defense_df[col].dtype == 'object':\n",
    "        defense_df[col] = defense_df[col].str.replace('%', '').astype(float)\n",
    "\n",
    "print(f\"✓ Loaded defense data: {len(defense_df)} players\")\n",
    "\n",
    "# Load shooting data\n",
    "shooting_path = season_path / 'shooting_overall' / 'shooting_overall.csv'\n",
    "if shooting_path.exists():\n",
    "    shooting_df = pd.read_csv(shooting_path)\n",
    "    for col in ['eFG%', '2P%', '3P%', 'FT%']:\n",
    "        if col in shooting_df.columns and shooting_df[col].dtype == 'object':\n",
    "            shooting_df[col] = shooting_df[col].str.replace('%', '').astype(float)\n",
    "    print(f\"✓ Loaded shooting data: {len(shooting_df)} players\")"
   ]
  },
  {
   "cell_type": "code",
   "execution_count": 6,
   "metadata": {},
   "outputs": [
    {
     "name": "stdout",
     "output_type": "stream",
     "text": [
      "\n",
      "✓ Merged data shape: (503, 26)\n",
      "  Columns: 26\n",
      "  Players: 503\n"
     ]
    }
   ],
   "source": [
    "# Merge all data\n",
    "player_df = offensive_df.copy()\n",
    "\n",
    "# Merge defense data\n",
    "defense_cols = ['Player', 'Team', 'fgOR%', 'fgDR%', 'ftOR%', 'ftDR%', 'BLK%', 'STL%', 'FOUL%']\n",
    "defense_cols = [col for col in defense_cols if col in defense_df.columns]\n",
    "player_df = player_df.merge(\n",
    "    defense_df[defense_cols],\n",
    "    on=['Player', 'Team'],\n",
    "    how='left',\n",
    "    suffixes=('', '_def')\n",
    ")\n",
    "\n",
    "# Merge shooting data if exists\n",
    "if 'shooting_df' in locals():\n",
    "    shooting_cols = ['Player', 'Team', 'eFG%', '2P%', '3P%', 'FT%']\n",
    "    shooting_cols = [col for col in shooting_cols if col in shooting_df.columns]\n",
    "    player_df = player_df.merge(\n",
    "        shooting_df[shooting_cols],\n",
    "        on=['Player', 'Team'],\n",
    "        how='left',\n",
    "        suffixes=('', '_shoot')\n",
    "    )\n",
    "\n",
    "print(f\"\\n✓ Merged data shape: {player_df.shape}\")\n",
    "print(f\"  Columns: {player_df.shape[1]}\")\n",
    "print(f\"  Players: {player_df.shape[0]}\")"
   ]
  },
  {
   "cell_type": "code",
   "execution_count": 7,
   "metadata": {},
   "outputs": [
    {
     "name": "stdout",
     "output_type": "stream",
     "text": [
      "✓ Created 11 core performance features\n"
     ]
    }
   ],
   "source": [
    "# Create Core Performance Features (Tier 1)\n",
    "core_features = pd.DataFrame(index=player_df.index)\n",
    "\n",
    "# Basic performance metrics\n",
    "core_features['USG_percent'] = player_df['Usage']\n",
    "core_features['PSA'] = player_df['PSA']\n",
    "core_features['MIN'] = player_df['MIN']\n",
    "\n",
    "# Playmaking\n",
    "if 'AST%' in player_df.columns:\n",
    "    core_features['AST_percent'] = player_df['AST%']\n",
    "    core_features['AST_to_USG_Ratio'] = player_df['AST%'] / (player_df['Usage'] + 0.001)\n",
    "\n",
    "# Rebounding\n",
    "if 'fgDR%' in player_df.columns:\n",
    "    core_features['fgDR_percent'] = player_df['fgDR%']\n",
    "if 'fgOR%' in player_df.columns:\n",
    "    core_features['fgOR_percent'] = player_df['fgOR%']\n",
    "    core_features['Total_REB_percent'] = player_df['fgDR%'] + player_df['fgOR%']\n",
    "\n",
    "# Shooting efficiency\n",
    "if 'eFG%' in player_df.columns:\n",
    "    core_features['eFG_percent'] = player_df['eFG%']\n",
    "\n",
    "# Turnover rate\n",
    "if 'TOV%' in player_df.columns:\n",
    "    core_features['TOV_percent'] = player_df['TOV%']\n",
    "\n",
    "# Defense\n",
    "if all(col in player_df.columns for col in ['BLK%', 'STL%']):\n",
    "    core_features['Defensive_Activity'] = player_df['BLK%'] + player_df['STL%']\n",
    "\n",
    "print(f\"✓ Created {len(core_features.columns)} core performance features\")"
   ]
  },
  {
   "cell_type": "code",
   "execution_count": 8,
   "metadata": {},
   "outputs": [
    {
     "name": "stdout",
     "output_type": "stream",
     "text": [
      "✓ Created 4 contextual features\n"
     ]
    }
   ],
   "source": [
    "# Create Contextual Features (Tier 2)\n",
    "context_features = pd.DataFrame(index=player_df.index)\n",
    "\n",
    "# Minutes category\n",
    "context_features['Minutes_Season_Avg'] = player_df['MIN']\n",
    "context_features['Minutes_Category'] = pd.cut(\n",
    "    player_df['MIN'], \n",
    "    bins=[0, 15, 25, 32, 40],\n",
    "    labels=['Bench', 'Rotation', 'Starter', 'Star']\n",
    ")\n",
    "\n",
    "# Position inference\n",
    "if 'AST%' in player_df.columns and 'fgDR%' in player_df.columns:\n",
    "    conditions = [\n",
    "        (player_df['AST%'] > player_df['AST%'].quantile(0.7)),\n",
    "        (player_df['fgDR%'] > player_df['fgDR%'].quantile(0.7)),\n",
    "    ]\n",
    "    choices = ['Guard', 'Big']\n",
    "    context_features['Position_Inferred'] = np.select(conditions, choices, default='Forward')\n",
    "\n",
    "# Role classification\n",
    "if 'Usage' in player_df.columns and 'MIN' in player_df.columns:\n",
    "    conditions = [\n",
    "        (player_df['Usage'] > 25) & (player_df['MIN'] > 30),\n",
    "        (player_df['Usage'] > 20) & (player_df['MIN'] > 25),\n",
    "        (player_df['MIN'] > 20),\n",
    "    ]\n",
    "    choices = ['Primary', 'Secondary', 'Role']\n",
    "    context_features['Player_Role'] = np.select(conditions, choices, default='Bench')\n",
    "\n",
    "print(f\"✓ Created {len(context_features.columns)} contextual features\")"
   ]
  },
  {
   "cell_type": "code",
   "execution_count": 9,
   "metadata": {},
   "outputs": [
    {
     "name": "stdout",
     "output_type": "stream",
     "text": [
      "✓ Created 4 temporal features\n"
     ]
    }
   ],
   "source": [
    "# Create Temporal Features (Tier 3) - Simulated for now\n",
    "temporal_features = pd.DataFrame(index=player_df.index)\n",
    "\n",
    "# Consistency score\n",
    "if 'Usage Rank' in player_df.columns and 'PSA Rank' in player_df.columns:\n",
    "    temporal_features['Consistency_Score'] = 1 / (1 + np.abs(player_df['Usage Rank'] - player_df['PSA Rank'])/100)\n",
    "\n",
    "# Usage stability\n",
    "if 'Usage' in player_df.columns:\n",
    "    from scipy import stats\n",
    "    usage_zscore = np.abs(stats.zscore(player_df['Usage'].fillna(player_df['Usage'].mean())))\n",
    "    temporal_features['Usage_Stability'] = 1 / (1 + np.exp(-usage_zscore))\n",
    "\n",
    "# Performance tier\n",
    "if 'MIN' in player_df.columns and 'Usage' in player_df.columns:\n",
    "    temporal_features['Performance_Tier'] = (\n",
    "        player_df['MIN'].rank(pct=True) * 0.5 + \n",
    "        player_df['Usage'].rank(pct=True) * 0.5\n",
    "    )\n",
    "\n",
    "# Opportunity score\n",
    "if all(col in player_df.columns for col in ['MIN', 'Usage', 'PSA']):\n",
    "    temporal_features['Opportunity_Score'] = (\n",
    "        player_df['MIN'] * player_df['Usage'] * player_df['PSA'] / 10000\n",
    "    )\n",
    "\n",
    "print(f\"✓ Created {len(temporal_features.columns)} temporal features\")"
   ]
  },
  {
   "cell_type": "code",
   "execution_count": 10,
   "metadata": {},
   "outputs": [
    {
     "name": "stdout",
     "output_type": "stream",
     "text": [
      "  ✓ Added Efficiency_x_Volume (USG × eFG)\n",
      "  ✓ Added Playmaking_Efficiency (AST/TOV ratio)\n",
      "  ✓ Added Minutes_x_Efficiency\n",
      "  ✓ Added Offensive_Load (total offensive responsibility)\n",
      "✓ Created 4 engineered features\n"
     ]
    }
   ],
   "source": [
    "# Create Engineered Features (NEW)\n",
    "engineered_features = pd.DataFrame(index=player_df.index)\n",
    "\n",
    "# Efficiency at Volume: How efficient are high-usage players?\n",
    "if 'Usage' in player_df.columns and 'eFG%' in player_df.columns:\n",
    "    engineered_features['Efficiency_x_Volume'] = player_df['Usage'] * player_df['eFG%'] / 100\n",
    "    print(f\"  ✓ Added Efficiency_x_Volume (USG × eFG)\")\n",
    "\n",
    "# Playmaking Efficiency: Assist-to-Turnover quality\n",
    "if 'AST%' in player_df.columns and 'TOV%' in player_df.columns:\n",
    "    # Add small constant to avoid division by zero\n",
    "    engineered_features['Playmaking_Efficiency'] = player_df['AST%'] / (player_df['TOV%'] + 0.1)\n",
    "    print(f\"  ✓ Added Playmaking_Efficiency (AST/TOV ratio)\")\n",
    "\n",
    "# True Shooting x Minutes: High-efficiency scorers with playing time\n",
    "if 'MIN' in player_df.columns and 'eFG%' in player_df.columns:\n",
    "    engineered_features['Minutes_x_Efficiency'] = (player_df['MIN'] / 82) * player_df['eFG%']\n",
    "    print(f\"  ✓ Added Minutes_x_Efficiency\")\n",
    "\n",
    "# Offensive Load: Combined usage and assist responsibility\n",
    "if 'Usage' in player_df.columns and 'AST%' in player_df.columns:\n",
    "    engineered_features['Offensive_Load'] = player_df['Usage'] + (player_df['AST%'] * 0.5)\n",
    "    print(f\"  ✓ Added Offensive_Load (total offensive responsibility)\")\n",
    "\n",
    "print(f\"✓ Created {len(engineered_features.columns)} engineered features\")"
   ]
  },
  {
   "cell_type": "code",
   "execution_count": 11,
   "metadata": {},
   "outputs": [
    {
     "name": "stdout",
     "output_type": "stream",
     "text": [
      "  ✓ Removed redundant Minutes_Season_Avg (duplicate of MIN)\n",
      "\n",
      "✅ FINAL FEATURE MATRIX:\n",
      "  Shape: (503, 27)\n",
      "  Total features: 25 (excluding Player, Team)\n",
      "\n",
      "Feature categories:\n",
      "  - Core Performance: 11 features\n",
      "  - Contextual: 2 features\n",
      "  - Temporal: 4 features\n",
      "  - Engineered: 4 features\n"
     ]
    }
   ],
   "source": [
    "# Combine all features\n",
    "final_features = pd.concat([\n",
    "    player_df[['Player', 'Team']],\n",
    "    core_features,\n",
    "    context_features.select_dtypes(exclude=['category']),  # Exclude categorical for now\n",
    "    temporal_features,\n",
    "    engineered_features  # Add engineered features\n",
    "], axis=1)\n",
    "\n",
    "# Remove redundant feature (100% correlated with MIN)\n",
    "if 'Minutes_Season_Avg' in final_features.columns:\n",
    "    final_features = final_features.drop('Minutes_Season_Avg', axis=1)\n",
    "    print(\"  ✓ Removed redundant Minutes_Season_Avg (duplicate of MIN)\")\n",
    "\n",
    "# Add target variable (PRA estimate) - CORRECTED VERSION\n",
    "if all(col in player_df.columns for col in ['MIN', 'Usage', 'PSA', 'AST%', 'fgDR%']):\n",
    "    # Convert total season minutes to per-game minutes (assuming 82-game season)\n",
    "    mpg = player_df['MIN'] / 82\n",
    "    \n",
    "    # Points estimate: MPG * Usage% * (PSA/100) * 1.2\n",
    "    points_est = mpg * (player_df['Usage'] / 100) * (player_df['PSA'] / 100) * 1.2\n",
    "    \n",
    "    # Rebounds estimate: MPG * Rebounding% * 1.8\n",
    "    rebounds_est = mpg * (player_df['fgDR%'] / 100) * 1.8\n",
    "    \n",
    "    # Assists estimate: MPG * AST% * 0.8\n",
    "    assists_est = mpg * (player_df['AST%'] / 100) * 0.8\n",
    "    \n",
    "    # Combined PRA estimate\n",
    "    final_features['PRA_estimate'] = points_est + rebounds_est + assists_est\n",
    "    \n",
    "    # Add individual components for analysis\n",
    "    final_features['Points_estimate'] = points_est\n",
    "    final_features['Rebounds_estimate'] = rebounds_est\n",
    "    final_features['Assists_estimate'] = assists_est\n",
    "\n",
    "print(f\"\\n✅ FINAL FEATURE MATRIX:\")\n",
    "print(f\"  Shape: {final_features.shape}\")\n",
    "print(f\"  Total features: {len(final_features.columns) - 2} (excluding Player, Team)\")\n",
    "print(f\"\\nFeature categories:\")\n",
    "print(f\"  - Core Performance: {len(core_features.columns)} features\")\n",
    "print(f\"  - Contextual: {len([c for c in context_features.columns if c in final_features.columns])} features\")\n",
    "print(f\"  - Temporal: {len(temporal_features.columns)} features\")\n",
    "print(f\"  - Engineered: {len(engineered_features.columns)} features\")"
   ]
  },
  {
   "cell_type": "code",
   "execution_count": 12,
   "metadata": {},
   "outputs": [
    {
     "name": "stdout",
     "output_type": "stream",
     "text": [
      "\n",
      "💾 Saved processed features to:\n",
      "   /Users/diyagamah/Documents/nba_props_model/data/processed/player_features_2023_24.csv\n",
      "\n",
      "🏆 TOP 10 PLAYERS BY PRA:\n",
      "==================================================\n",
      "Nikola Jokic              (DEN)  →  43.0\n",
      "Luka Doncic               (DAL)  →  42.7\n",
      "Domantas Sabonis          (SAC)  →  41.0\n",
      "Giannis Antetokounmpo     (MIL)  →  37.2\n",
      "LeBron James              (LAL)  →  32.4\n",
      "Paolo Banchero            (ORL)  →  31.2\n",
      "Anthony Davis             (LAL)  →  31.2\n",
      "Shai Gilgeous-Alexander   (OKC)  →  30.9\n",
      "Jayson Tatum              (BOS)  →  30.9\n",
      "Anthony Edwards           (MIN)  →  30.1\n",
      "\n",
      "✅ Feature engineering pipeline complete!\n",
      "   You can now run the other notebooks with processed features.\n"
     ]
    }
   ],
   "source": [
    "# Save processed features\n",
    "output_path = Path('/Users/diyagamah/Documents/nba_props_model/data/processed')\n",
    "output_path.mkdir(parents=True, exist_ok=True)\n",
    "\n",
    "# Save main features file\n",
    "output_file = output_path / 'player_features_2023_24.csv'\n",
    "final_features.to_csv(output_file, index=False)\n",
    "print(f\"\\n💾 Saved processed features to:\")\n",
    "print(f\"   {output_file}\")\n",
    "\n",
    "# Show top players\n",
    "if 'PRA_estimate' in final_features.columns:\n",
    "    print(\"\\n🏆 TOP 10 PLAYERS BY PRA:\")\n",
    "    print(\"=\"*50)\n",
    "    top_10 = final_features.nlargest(10, 'PRA_estimate')[['Player', 'Team', 'PRA_estimate']]\n",
    "    for idx, row in top_10.iterrows():\n",
    "        print(f\"{row['Player']:25s} ({row['Team']})  →  {row['PRA_estimate']:.1f}\")\n",
    "\n",
    "print(\"\\n✅ Feature engineering pipeline complete!\")\n",
    "print(\"   You can now run the other notebooks with processed features.\")"
   ]
  }
 ],
 "metadata": {
  "kernelspec": {
   "display_name": "nba-props-model",
   "language": "python",
   "name": "python3"
  },
  "language_info": {
   "codemirror_mode": {
    "name": "ipython",
    "version": 3
   },
   "file_extension": ".py",
   "mimetype": "text/x-python",
   "name": "python",
   "nbconvert_exporter": "python",
   "pygments_lexer": "ipython3",
   "version": "3.12.11"
  }
 },
 "nbformat": 4,
 "nbformat_minor": 4
}
